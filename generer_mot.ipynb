{
 "cells": [
  {
   "cell_type": "code",
   "execution_count": 1,
   "metadata": {},
   "outputs": [],
   "source": [
    "import pandas as pd\n",
    "import numpy as np\n",
    "import random as rd"
   ]
  },
  {
   "cell_type": "code",
   "execution_count": 2,
   "metadata": {},
   "outputs": [],
   "source": [
    "#Extraction des données\n",
    "dictionnaire = pd.read_csv(\"lexique382.tsv\", sep =\"\\t\")"
   ]
  },
  {
   "cell_type": "code",
   "execution_count": 3,
   "metadata": {},
   "outputs": [],
   "source": [
    "# Création du vecteur contenant tous les mots (on supprime les valeurs manquantes et les doublons)\n",
    "mots = dictionnaire.ortho.dropna().unique()\n",
    "\n",
    "# Ajout du caractère ' ' à la fin des mots pour marquer la fin\n",
    "for i in range(mots.shape[0]):\n",
    "    mots[i] = mots[i] + ' '\n",
    "\n",
    "# Cleaning de la data en remplacant les caractères spéciaux ou rares par des caractères plus communs\n",
    "mots_clean = []\n",
    "for mot in mots:\n",
    "    mot_clean = mot\n",
    "    for lettre in mot:\n",
    "        if lettre == 'ã' or lettre == 'â' or lettre == 'à':\n",
    "            mot_clean = mot_clean.replace(lettre, 'a')\n",
    "        if lettre == 'ï' or lettre == 'î' or lettre == 'ï':\n",
    "            mot_clean = mot_clean.replace(lettre, 'i')\n",
    "        if lettre == 'û' or lettre == 'ù' or lettre == 'ü':\n",
    "            mot_clean = mot_clean.replace(lettre, 'u')\n",
    "        if lettre == '-' or lettre == '.':\n",
    "            mot_clean = mot_clean.replace(lettre, '')\n",
    "        if lettre == 'ö' or lettre == 'ô':\n",
    "            mot_clean = mot_clean.replace(lettre, 'o')\n",
    "        if lettre == 'ñ':\n",
    "            mot_clean = mot_clean.replace(lettre, 'n')\n",
    "    mots_clean.append(mot_clean)\n",
    "#print(mots_clean)"
   ]
  },
  {
   "cell_type": "code",
   "execution_count": 4,
   "metadata": {},
   "outputs": [],
   "source": [
    "# Création d'une liste regroupant les caractères utilisés\n",
    "carac = set()\n",
    "for mot in mots_clean:\n",
    "    for lettre in mot:\n",
    "        carac.add(lettre)\n",
    "carac = list(carac)\n",
    "ind_fin = carac.index(' ')\n",
    "#print(carac)\n",
    "#print(ind_fin)"
   ]
  },
  {
   "cell_type": "code",
   "execution_count": 5,
   "metadata": {},
   "outputs": [],
   "source": [
    "# Création d'un tenseur de dimension 2, les lignes et les colonnes représentent les lettres dans l'ordre de carac\n",
    "# À l'intersection [i][j] se trouve le nombre de fois que la lettre en j se trouve après la lettre en i\n",
    "arr1 = np.zeros([len(carac), len(carac)])\n",
    "for mot in mots_clean:\n",
    "    for i in range(len(mot) - 1):\n",
    "        indice_lettre = carac.index(mot[i])\n",
    "        indice_suivante = carac.index(mot[i + 1])\n",
    "        arr1[indice_lettre][indice_suivante] += 1"
   ]
  },
  {
   "cell_type": "code",
   "execution_count": 6,
   "metadata": {},
   "outputs": [],
   "source": [
    "# Création d'un tenseur de dimension 3, les dimensions représentent les lettres dans l'ordre de carac\n",
    "# À l'intersection [i][j][k] se trouve le nombre de fois que la lettre en k se trouve après la lettre en i et j\n",
    "arr2 = np.zeros([len(carac), len(carac), len(carac)])\n",
    "for mot in mots_clean:\n",
    "    if len(mot) > 2:\n",
    "        for i in range(len(mot) - 2):\n",
    "            indice_lettre = carac.index(mot[i])\n",
    "            indice_plus1 = carac.index(mot[i + 1])\n",
    "            indice_plus2 = carac.index(mot[i + 2])\n",
    "            arr2[indice_lettre][indice_plus1][indice_plus2] += 1"
   ]
  },
  {
   "cell_type": "code",
   "execution_count": 7,
   "metadata": {},
   "outputs": [],
   "source": [
    "# Modification de arr1 en divisant chaque entrée par la somme de la ligne\n",
    "# afin d'avoir une somme qui vaut 1 \n",
    "i = 0\n",
    "arr_fin1 = []\n",
    "for row in arr1:\n",
    "    arr_temp = []\n",
    "    somme = sum(row)\n",
    "    if somme != 0:\n",
    "        for item in row:\n",
    "            arr_temp.append(item/somme)\n",
    "        arr_fin1.append(arr_temp)\n",
    "    else:\n",
    "        arr_fin1.append(row)\n",
    "arr_fin1 = np.array(arr_fin1)"
   ]
  },
  {
   "cell_type": "code",
   "execution_count": 8,
   "metadata": {},
   "outputs": [],
   "source": [
    "# Modification de arr2 en divisant chaque entrée par la somme de la rangée\n",
    "# afin d'avoir une somme qui vaut 1 \n",
    "i = 0\n",
    "arr_fin2 = []\n",
    "for col in arr2:\n",
    "    arr_temp2 = []\n",
    "    for row in col:\n",
    "        arr_temp1 = []\n",
    "        somme = sum(row)\n",
    "        if somme != 0:\n",
    "            for item in row:\n",
    "                arr_temp1.append(item/somme)\n",
    "            arr_temp2.append(arr_temp1)\n",
    "        else:\n",
    "            arr_temp2.append(row)\n",
    "    arr_fin2.append(arr_temp2)\n",
    "arr_fin2 = np.array(arr_fin2)\n",
    "#print(arr_fin2[0][2])\n",
    "#print(arr2[0][2])"
   ]
  },
  {
   "cell_type": "code",
   "execution_count": null,
   "metadata": {},
   "outputs": [],
   "source": [
    "print(arr_fin2[1][0])"
   ]
  },
  {
   "cell_type": "code",
   "execution_count": 9,
   "metadata": {},
   "outputs": [],
   "source": [
    "# Création de deux listes qui regroupent la proba cumulée des lettre et leur indice dans carac pour vision 1\n",
    "arr_cum1 = []\n",
    "arr_ind1 = []\n",
    "for i, row in enumerate(arr_fin1):\n",
    "    arr_ind_temp = []\n",
    "    arr_cum_temp = []\n",
    "    som = 0\n",
    "    for j, item in enumerate(row):\n",
    "        if item > 0:\n",
    "            som += item\n",
    "            arr_ind_temp.append(j)\n",
    "            arr_cum_temp.append(som)\n",
    "    arr_ind1.append(arr_ind_temp)\n",
    "    arr_cum1.append(arr_cum_temp)\n",
    "#print(arr_ind1)\n",
    "#print(arr_cum1)"
   ]
  },
  {
   "cell_type": "code",
   "execution_count": 10,
   "metadata": {},
   "outputs": [],
   "source": [
    "# Création de deux matrices qui regroupent la proba cumulée des lettre et leur indice dans carac pour vision 2\n",
    "arr_cum2 = []\n",
    "arr_ind2 = []\n",
    "for i, col in enumerate(arr_fin2):\n",
    "    arr_ind_temp2 = []\n",
    "    arr_cum_temp2 = []\n",
    "    for j, row in enumerate(col):\n",
    "        arr_ind_temp1 = []\n",
    "        arr_cum_temp1 = []\n",
    "        som = 0\n",
    "        for k, item in enumerate(row):\n",
    "            if item > 0:\n",
    "                som += item\n",
    "                arr_ind_temp1.append(k)\n",
    "                arr_cum_temp1.append(som)\n",
    "        arr_ind_temp2.append(arr_ind_temp1)\n",
    "        arr_cum_temp2.append(arr_cum_temp1)\n",
    "    arr_ind2.append(arr_ind_temp2)\n",
    "    arr_cum2.append(arr_cum_temp2)\n",
    "#print(arr_ind2)\n",
    "#print(arr_cum2)"
   ]
  },
  {
   "cell_type": "code",
   "execution_count": 11,
   "metadata": {},
   "outputs": [],
   "source": [
    "# Création d'une liste des caractères par lesquels commencent un mot\n",
    "arr_temp = np.zeros([len(carac)])\n",
    "for mot in mots_clean:\n",
    "    indice = carac.index(mot[0])\n",
    "    arr_temp[indice] += 1\n",
    "arr_deb = arr_temp/sum(arr_temp)\n",
    "\n",
    "arr_ind_pre = []\n",
    "arr_cum_pre = []\n",
    "somme = 0\n",
    "for i, el in enumerate(arr_deb):\n",
    "    if el != 0:\n",
    "        somme += el\n",
    "        arr_ind_pre.append(i)\n",
    "        arr_cum_pre.append(somme)\n",
    "#print(arr_deb)\n",
    "#print(arr_cum_pre)\n",
    "#print(arr_ind_pre)"
   ]
  },
  {
   "cell_type": "code",
   "execution_count": 12,
   "metadata": {},
   "outputs": [],
   "source": [
    "# Génération des mots aléatoires\n",
    "\n",
    "def generer():\n",
    "    word = []\n",
    "\n",
    "    # Génération première lettre\n",
    "    alea = rd.random()\n",
    "    for i, car in enumerate(arr_cum_pre):\n",
    "        if alea <= car:\n",
    "            seed = arr_ind_pre[i]\n",
    "            break\n",
    "    word.append(carac[seed])\n",
    "\n",
    "    # Génération deuxième lettre\n",
    "    alea = rd.random()\n",
    "    for i, car in enumerate(arr_cum1[seed]):\n",
    "        if alea <= car:\n",
    "            seed = arr_ind1[seed][i]\n",
    "            break\n",
    "\n",
    "    # Génération lettres suivantes\n",
    "\n",
    "    cond = True\n",
    "    while cond:\n",
    "        word.append(carac[seed])\n",
    "        let_prec1 = carac.index(word[-1])\n",
    "        let_prec2 = carac.index(word[-2])\n",
    "        alea = rd.random()\n",
    "        for i, car in enumerate(arr_cum2[let_prec2][let_prec1]):\n",
    "            if alea <= car:\n",
    "                seed = arr_ind2[let_prec2][let_prec1][i]\n",
    "                break\n",
    "        if seed == ind_fin:\n",
    "            cond = False\n",
    "    \n",
    "    for let in word:\n",
    "        print(let, end = '')"
   ]
  },
  {
   "cell_type": "code",
   "execution_count": 13,
   "metadata": {},
   "outputs": [
    {
     "name": "stdout",
     "output_type": "stream",
     "text": [
      "cellibéleu"
     ]
    }
   ],
   "source": [
    "generer()"
   ]
  }
 ],
 "metadata": {
  "kernelspec": {
   "display_name": "Python 3",
   "language": "python",
   "name": "python3"
  },
  "language_info": {
   "codemirror_mode": {
    "name": "ipython",
    "version": 3
   },
   "file_extension": ".py",
   "mimetype": "text/x-python",
   "name": "python",
   "nbconvert_exporter": "python",
   "pygments_lexer": "ipython3",
   "version": "3.7.0"
  }
 },
 "nbformat": 4,
 "nbformat_minor": 2
}
